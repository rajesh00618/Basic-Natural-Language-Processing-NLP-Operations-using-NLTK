{
  "nbformat": 4,
  "nbformat_minor": 0,
  "metadata": {
    "colab": {
      "provenance": []
    },
    "kernelspec": {
      "name": "python3",
      "display_name": "Python 3"
    },
    "language_info": {
      "name": "python"
    }
  },
  "cells": [
    {
      "cell_type": "code",
      "source": [
        "import nltk\n",
        "nltk.download('punkt')"
      ],
      "metadata": {
        "colab": {
          "base_uri": "https://localhost:8080/"
        },
        "id": "B3XrdG6Hckdw",
        "outputId": "31ab90a7-169e-4640-8d54-367f42a8d44e"
      },
      "execution_count": null,
      "outputs": [
        {
          "output_type": "stream",
          "name": "stderr",
          "text": [
            "[nltk_data] Downloading package punkt to /root/nltk_data...\n",
            "[nltk_data]   Package punkt is already up-to-date!\n"
          ]
        },
        {
          "output_type": "execute_result",
          "data": {
            "text/plain": [
              "True"
            ]
          },
          "metadata": {},
          "execution_count": 62
        }
      ]
    },
    {
      "cell_type": "code",
      "execution_count": null,
      "metadata": {
        "colab": {
          "base_uri": "https://localhost:8080/"
        },
        "id": "HrOAeVMkab5F",
        "outputId": "21882c72-72ce-41ba-f461-eda11a5206b7"
      },
      "outputs": [
        {
          "output_type": "stream",
          "name": "stdout",
          "text": [
            "with: a\n",
            "the: educational\n",
            ",: pharmacy\n",
            "in: the\n",
            "colleges: ,\n",
            ",: the\n"
          ]
        }
      ],
      "source": [
        "import nltk\n",
        "from nltk.collocations import BigramCollocationFinder, BigramAssocMeasures\n",
        "from nltk.tokenize import word_tokenize\n",
        "\n",
        "text = \"\"\"\n",
        "Aditya, the premier promoter of quality education in the coastal districts of Andhra Pradesh\n",
        "for the past two decades, leads various institutions ranging from K.G to P.G besides professional colleges like Engineering, Pharmacy and Nursing.\n",
        "Sri Nallamilli Seshareddy as a founder chairman, promoted the educational society in the name and style of Aditya Academy at Kakinada in the year 1984,\n",
        "with a vision and mission to create a platform for holistic growth and success to students at all levels.\n",
        "Aditya has made its entry into the educational arena with a public school to meet the needs of primary and secondary education.\n",
        "In succession and with rapid strides, the academy established a number of Junior Colleges, Degree Colleges, PG Colleges, Engineering Colleges, Pharmacy Colleges, Nursing Colleges,\n",
        "Teacher Training Institutions.\n",
        "\"\"\"\n",
        "\n",
        "tokens = word_tokenize(text.lower())\n",
        "finder = BigramCollocationFinder.from_words(tokens)\n",
        "\n",
        "finder.apply_freq_filter(2)\n",
        "\n",
        "bigram_measures = BigramAssocMeasures()\n",
        "\n",
        "for bigram, score in finder.nbest(bigram_measures.pmi, 10):\n",
        "    print(f\"{bigram}: {score}\")\n"
      ]
    },
    {
      "cell_type": "code",
      "source": [
        "finder.nbest(bigram_measures.pmi, 5)"
      ],
      "metadata": {
        "colab": {
          "base_uri": "https://localhost:8080/"
        },
        "id": "2Udd3paOromt",
        "outputId": "fc05235d-282b-4055-d349-c00ccdacd027"
      },
      "execution_count": null,
      "outputs": [
        {
          "output_type": "execute_result",
          "data": {
            "text/plain": [
              "[('with', 'a'),\n",
              " ('the', 'educational'),\n",
              " (',', 'pharmacy'),\n",
              " ('in', 'the'),\n",
              " ('colleges', ',')]"
            ]
          },
          "metadata": {},
          "execution_count": 64
        }
      ]
    },
    {
      "cell_type": "code",
      "source": [
        "def find_words_with_prefix(text, prefix):\n",
        "    words = text.split()\n",
        "    matching_words = []\n",
        "    for word in words:\n",
        "\n",
        "        if word.lower().startswith(prefix.lower()):\n",
        "            matching_words.append(word)\n",
        "    return matching_words\n",
        "\n",
        "\n",
        "text = \"The quick brown fox jumps over the lazy dog. The lazy cat sleeps soundly.\"\n",
        "prefix_to_find = \"la\"\n",
        "found_words = find_words_with_prefix(text, prefix_to_find)\n",
        "print(f\"Words starting with '{prefix_to_find}': {found_words}\")\n",
        "\n",
        "prefix_to_find_2 = \"th\"\n",
        "found_words_2 = find_words_with_prefix(text, prefix_to_find_2)\n",
        "print(f\"Words starting with '{prefix_to_find_2}': {found_words_2}\")\n"
      ],
      "metadata": {
        "colab": {
          "base_uri": "https://localhost:8080/"
        },
        "id": "9NlbgmiIbplw",
        "outputId": "4ea6dcb7-c289-40f3-897d-ff0f22b08dd4"
      },
      "execution_count": null,
      "outputs": [
        {
          "output_type": "stream",
          "name": "stdout",
          "text": [
            "Words starting with 'la': ['lazy', 'lazy']\n",
            "Words starting with 'th': ['The', 'the', 'The']\n"
          ]
        }
      ]
    },
    {
      "cell_type": "code",
      "source": [
        "def print_long_words(text, min_length):\n",
        "\n",
        "    words = text.split()  # Split the text into a list of words\n",
        "\n",
        "    print(f\"Words longer than {min_length} characters:\")\n",
        "    for word in words:\n",
        "        # Check if the word's length is greater than the minimum length\n",
        "        if len(word) > min_length:\n",
        "            print(word)\n",
        "\n",
        "# Example usage:\n",
        "sample_text = \"The quick brown fox jumps over the lazy dog. Programming is fun and challenging!\"\n",
        "min_word_length = 4  # We want words longer than 4 characters\n",
        "\n",
        "print_long_words(sample_text, min_word_length)\n"
      ],
      "metadata": {
        "colab": {
          "base_uri": "https://localhost:8080/"
        },
        "id": "RUtMHQ6NcAsQ",
        "outputId": "8fab0c1c-d65a-4c53-bffa-15c2dccddfc4"
      },
      "execution_count": null,
      "outputs": [
        {
          "output_type": "stream",
          "name": "stdout",
          "text": [
            "Words longer than 4 characters:\n",
            "quick\n",
            "brown\n",
            "jumps\n",
            "Programming\n",
            "challenging!\n"
          ]
        }
      ]
    },
    {
      "cell_type": "code",
      "source": [
        "import nltk\n",
        "from nltk.collocations import BigramCollocationFinder, TrigramCollocationFinder\n",
        "from nltk.metrics import BigramAssocMeasures, TrigramAssocMeasures\n",
        "from nltk.corpus import stopwords\n",
        "import string\n",
        "\n",
        "nltk.download('stopwords')\n",
        "nltk.download('punkt_tab')"
      ],
      "metadata": {
        "id": "yvO2u6P12ML6",
        "colab": {
          "base_uri": "https://localhost:8080/"
        },
        "outputId": "e6e8b24e-fbd1-4ecd-82a5-d692e20130f9"
      },
      "execution_count": null,
      "outputs": [
        {
          "output_type": "stream",
          "name": "stderr",
          "text": [
            "[nltk_data] Downloading package stopwords to /root/nltk_data...\n",
            "[nltk_data]   Package stopwords is already up-to-date!\n",
            "[nltk_data] Downloading package punkt_tab to /root/nltk_data...\n",
            "[nltk_data]   Package punkt_tab is already up-to-date!\n"
          ]
        },
        {
          "output_type": "execute_result",
          "data": {
            "text/plain": [
              "True"
            ]
          },
          "metadata": {},
          "execution_count": 67
        }
      ]
    },
    {
      "cell_type": "code",
      "source": [
        "text=\"\"\"\n",
        "Monica Belluci\n",
        "Erangi\n",
        "Vandhachi\n",
        "\n",
        "Kadale Kondhalikum\n",
        "Tsunamiye Undachi\n",
        "\n",
        "Monica Belluci\n",
        "Ethita\n",
        "Energy\n",
        "\n",
        "Thalaye Suthaveikum\n",
        "Sooravali Ponnachi\n",
        "\n",
        "Pattunu Paathale\n",
        "Pulse Ethum Body\n",
        "Koduva Meenellam Koothadumey\n",
        "\n",
        "Irava Colorakum\n",
        "Jilebi Lady\n",
        "Saltum Naa Thotta Sweetagumey\n",
        "\n",
        "Monica\n",
        "My Dear Monica\n",
        "Love U Monica\n",
        "Babyma\n",
        "Monica\n",
        "\n",
        "Kichukichu Ma\n",
        "Sikkikichu Ma\n",
        "\n",
        "Monica\n",
        "Love U Monica\n",
        "Babyma\n",
        "Monica\n",
        "\n",
        "Kichukichu Ma\n",
        "Pathikichu Ma\n",
        "\n",
        "Enna Tholayavekkiriye\n",
        "Konjo Kolayaveikiriye\n",
        "Pagal Kanavulaye\n",
        "Unna Adaya Vaikuriye\n",
        "\n",
        "Manal Gadikaara Idaiye\n",
        "Manam Korangaagum Padiye\n",
        "En Aranerigalaye\n",
        "Nee Uri Adikuriye\n",
        "\n",
        "Un Vadivam Oru Classic\n",
        "Adha Paaka Aavudhu Traffic\n",
        "Oru Unma Solluren(Vena Vena)\n",
        "Sari Konjo Solluren Ma Enaku\n",
        "\n",
        "Sothu Pathu Vandha\n",
        "Maathiduren Undha\n",
        "Pathalana Maasa Maasam Katturen Sandha\n",
        "\n",
        "Urasama\n",
        "Pathikavaka\n",
        "Udhatoram\n",
        "Thithikava\n",
        "Irukadha\n",
        "Othayila\n",
        "Othayila\n",
        "\n",
        "Oruvatti\n",
        "Sandhikava\n",
        "Mayangatti\n",
        "Thandikava\n",
        "Thayangathe\n",
        "Methayila\n",
        "Methayila\n",
        "\n",
        "Saavum Nerathil\n",
        "Polambi Alugathe\n",
        "Pooja Aatathil\n",
        "Innocent Aanathola\n",
        "\n",
        "Varumay Kolathil\n",
        "Nermai Paakatha\n",
        "Ilamay Kalathil\n",
        "Decency Nalla Illa\n",
        "\n",
        "Nilava Sevapakum\n",
        "Thanjavoor Kari\n",
        "Manasa Rendaki Varava Killa\n",
        "\n",
        "Irumba Karumbakum\n",
        "Pappali Lorry\n",
        "Baasha Kaipaatu Kavudhenmella\n",
        "\n",
        "Monica\n",
        "My Dear Monica\n",
        "Love U Monica\n",
        "Babyma\n",
        "Monica\n",
        "\n",
        "Kichukichu Ma\n",
        "Sikkikichu Ma\n",
        "\n",
        "Monica\n",
        "Love U Monica\n",
        "Babyma\n",
        "Monica\n",
        "\n",
        "Kichukichu Ma\n",
        "Pathikichu Ma\n",
        "\n",
        "Monica My Dear\n",
        "Monica My Dear\n",
        "\n",
        "\"\"\""
      ],
      "metadata": {
        "id": "ryvZJW_m3Liz"
      },
      "execution_count": null,
      "outputs": []
    },
    {
      "cell_type": "code",
      "source": [
        "tokens=nltk.word_tokenize(text.lower())\n",
        "stop_words=set(stopwords.words('english'))\n",
        "filtered_tokens=[word for word in tokens if word.lower() not in stop_words and word not in string.punctuation]\n",
        "\n",
        "bigram_finder=BigramCollocationFinder.from_words(filtered_tokens)\n",
        "bigram_finder.apply_freq_filter(1)\n",
        "\n",
        "scored_bigrams=bigram_finder.score_ngrams(BigramAssocMeasures.likelihood_ratio)\n",
        "for bigram, score in scored_bigrams[:100]:\n",
        "    print(f\"{bigram}:,PMI: {score:.2f}\")"
      ],
      "metadata": {
        "colab": {
          "base_uri": "https://localhost:8080/"
        },
        "id": "dybgRQ7S4Eq7",
        "outputId": "bc15fdd9-e54e-41c4-8a5c-fd8bdf2f0caf"
      },
      "execution_count": null,
      "outputs": [
        {
          "output_type": "stream",
          "name": "stdout",
          "text": [
            "('love', 'u'):,PMI: 37.66\n",
            "('babyma', 'monica'):,PMI: 18.59\n",
            "('monica', 'babyma'):,PMI: 18.59\n",
            "('monica', 'dear'):,PMI: 18.59\n",
            "('monica', 'kichukichu'):,PMI: 18.59\n",
            "('monica', 'love'):,PMI: 18.59\n",
            "('u', 'monica'):,PMI: 18.59\n",
            "('kichukichu', 'pathikichu'):,PMI: 16.08\n",
            "('kichukichu', 'sikkikichu'):,PMI: 16.08\n",
            "('aanathola', 'varumay'):,PMI: 12.21\n",
            "('aatathil', 'innocent'):,PMI: 12.21\n",
            "('aavudhu', 'traffic'):,PMI: 12.21\n",
            "('adaya', 'vaikuriye'):,PMI: 12.21\n",
            "('adha', 'paaka'):,PMI: 12.21\n",
            "('adikuriye', 'un'):,PMI: 12.21\n",
            "('alugathe', 'pooja'):,PMI: 12.21\n",
            "('aranerigalaye', 'nee'):,PMI: 12.21\n",
            "('baasha', 'kaipaatu'):,PMI: 12.21\n",
            "('body', 'koduva'):,PMI: 12.21\n",
            "('classic', 'adha'):,PMI: 12.21\n",
            "('colorakum', 'jilebi'):,PMI: 12.21\n",
            "('decency', 'nalla'):,PMI: 12.21\n",
            "('en', 'aranerigalaye'):,PMI: 12.21\n",
            "('enaku', 'sothu'):,PMI: 12.21\n",
            "('energy', 'thalaye'):,PMI: 12.21\n",
            "('enna', 'tholayavekkiriye'):,PMI: 12.21\n",
            "('erangi', 'vandhachi'):,PMI: 12.21\n",
            "('ethita', 'energy'):,PMI: 12.21\n",
            "('ethum', 'body'):,PMI: 12.21\n",
            "('gadikaara', 'idaiye'):,PMI: 12.21\n",
            "('idaiye', 'manam'):,PMI: 12.21\n",
            "('ilamay', 'kalathil'):,PMI: 12.21\n",
            "('illa', 'nilava'):,PMI: 12.21\n",
            "('innocent', 'aanathola'):,PMI: 12.21\n",
            "('irava', 'colorakum'):,PMI: 12.21\n",
            "('irumba', 'karumbakum'):,PMI: 12.21\n",
            "('jilebi', 'lady'):,PMI: 12.21\n",
            "('kadale', 'kondhalikum'):,PMI: 12.21\n",
            "('kaipaatu', 'kavudhenmella'):,PMI: 12.21\n",
            "('kalathil', 'decency'):,PMI: 12.21\n",
            "('kanavulaye', 'unna'):,PMI: 12.21\n",
            "('kari', 'manasa'):,PMI: 12.21\n",
            "('karumbakum', 'pappali'):,PMI: 12.21\n",
            "('katturen', 'sandha'):,PMI: 12.21\n",
            "('killa', 'irumba'):,PMI: 12.21\n",
            "('koduva', 'meenellam'):,PMI: 12.21\n",
            "('kolathil', 'nermai'):,PMI: 12.21\n",
            "('kolayaveikiriye', 'pagal'):,PMI: 12.21\n",
            "('kondhalikum', 'tsunamiye'):,PMI: 12.21\n",
            "('koothadumey', 'irava'):,PMI: 12.21\n",
            "('korangaagum', 'padiye'):,PMI: 12.21\n",
            "('lady', 'saltum'):,PMI: 12.21\n",
            "('lorry', 'baasha'):,PMI: 12.21\n",
            "('maasa', 'maasam'):,PMI: 12.21\n",
            "('maasam', 'katturen'):,PMI: 12.21\n",
            "('maathiduren', 'undha'):,PMI: 12.21\n",
            "('manal', 'gadikaara'):,PMI: 12.21\n",
            "('manam', 'korangaagum'):,PMI: 12.21\n",
            "('manasa', 'rendaki'):,PMI: 12.21\n",
            "('mayangatti', 'thandikava'):,PMI: 12.21\n",
            "('meenellam', 'koothadumey'):,PMI: 12.21\n",
            "('naa', 'thotta'):,PMI: 12.21\n",
            "('nalla', 'illa'):,PMI: 12.21\n",
            "('nee', 'uri'):,PMI: 12.21\n",
            "('nerathil', 'polambi'):,PMI: 12.21\n",
            "('nermai', 'paakatha'):,PMI: 12.21\n",
            "('nilava', 'sevapakum'):,PMI: 12.21\n",
            "('oruvatti', 'sandhikava'):,PMI: 12.21\n",
            "('paaka', 'aavudhu'):,PMI: 12.21\n",
            "('paakatha', 'ilamay'):,PMI: 12.21\n",
            "('paathale', 'pulse'):,PMI: 12.21\n",
            "('padiye', 'en'):,PMI: 12.21\n",
            "('pagal', 'kanavulaye'):,PMI: 12.21\n",
            "('pappali', 'lorry'):,PMI: 12.21\n",
            "('pathalana', 'maasa'):,PMI: 12.21\n",
            "('pathikavaka', 'udhatoram'):,PMI: 12.21\n",
            "('pathu', 'vandha'):,PMI: 12.21\n",
            "('pattunu', 'paathale'):,PMI: 12.21\n",
            "('polambi', 'alugathe'):,PMI: 12.21\n",
            "('ponnachi', 'pattunu'):,PMI: 12.21\n",
            "('pooja', 'aatathil'):,PMI: 12.21\n",
            "('pulse', 'ethum'):,PMI: 12.21\n",
            "('rendaki', 'varava'):,PMI: 12.21\n",
            "('saavum', 'nerathil'):,PMI: 12.21\n",
            "('saltum', 'naa'):,PMI: 12.21\n",
            "('sandha', 'urasama'):,PMI: 12.21\n",
            "('sandhikava', 'mayangatti'):,PMI: 12.21\n",
            "('sevapakum', 'thanjavoor'):,PMI: 12.21\n",
            "('sooravali', 'ponnachi'):,PMI: 12.21\n",
            "('sothu', 'pathu'):,PMI: 12.21\n",
            "('suthaveikum', 'sooravali'):,PMI: 12.21\n",
            "('thalaye', 'suthaveikum'):,PMI: 12.21\n",
            "('thandikava', 'thayangathe'):,PMI: 12.21\n",
            "('thanjavoor', 'kari'):,PMI: 12.21\n",
            "('thithikava', 'irukadha'):,PMI: 12.21\n",
            "('thotta', 'sweetagumey'):,PMI: 12.21\n",
            "('tsunamiye', 'undachi'):,PMI: 12.21\n",
            "('udhatoram', 'thithikava'):,PMI: 12.21\n",
            "('un', 'vadivam'):,PMI: 12.21\n",
            "('undha', 'pathalana'):,PMI: 12.21\n"
          ]
        }
      ]
    }
  ]
}